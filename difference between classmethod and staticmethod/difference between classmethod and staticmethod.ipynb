{
 "cells": [
  {
   "cell_type": "code",
   "execution_count": 15,
   "metadata": {
    "collapsed": true
   },
   "outputs": [],
   "source": [
    "class Add:\n",
    "    x = 5\n",
    "    def __init__(self, x):\n",
    "        self.x = x\n",
    "\n",
    "    def addFunc(self, y):\n",
    "        print(\"method:\", self.x+y)\n",
    "\n",
    "    @classmethod\n",
    "    #as convention, cls must be in place of self\n",
    "    def addClass(self, y):\n",
    "        print(\"class:\", self.x+y)\n",
    "\n",
    "    @staticmethod\n",
    "    def addStatic(y): #no self is used here\n",
    "        print(\"static:\", x+y)"
   ]
  },
  {
   "cell_type": "code",
   "execution_count": 28,
   "metadata": {
    "collapsed": false
   },
   "outputs": [
    {
     "name": "stdout",
     "output_type": "stream",
     "text": [
      "method: 7\n"
     ]
    }
   ],
   "source": [
    "#METHOD\n",
    "aFunc = Add(4)\n",
    "aFunc.addFunc(3) # method: 7"
   ]
  },
  {
   "cell_type": "code",
   "execution_count": 29,
   "metadata": {
    "collapsed": false
   },
   "outputs": [
    {
     "name": "stdout",
     "output_type": "stream",
     "text": [
      "class: 8\n"
     ]
    }
   ],
   "source": [
    "#cLASS METHOD\n",
    "aClass = Add(4)\n",
    "#below line will not use init function's self.x = 4\n",
    "#it will use class variable value i.e. x = 5\n",
    "aClass.addClass(3) # class: 8"
   ]
  },
  {
   "cell_type": "code",
   "execution_count": 30,
   "metadata": {
    "collapsed": false
   },
   "outputs": [
    {
     "name": "stdout",
     "output_type": "stream",
     "text": [
      "class: 8\n"
     ]
    }
   ],
   "source": [
    "#Directly calling @classmethod\n",
    "Add.addClass(3) # class: 8"
   ]
  },
  {
   "cell_type": "code",
   "execution_count": 31,
   "metadata": {
    "collapsed": true
   },
   "outputs": [],
   "source": [
    "#STATIC METHOD\n",
    "# x is defined here for staticmethod, it will get it from the class\n",
    "x=12 "
   ]
  },
  {
   "cell_type": "code",
   "execution_count": 32,
   "metadata": {
    "collapsed": false
   },
   "outputs": [
    {
     "name": "stdout",
     "output_type": "stream",
     "text": [
      "static: 15\n"
     ]
    }
   ],
   "source": [
    "aStatic = Add(4)\n",
    "aStatic.addStatic(3) #static: 15"
   ]
  },
  {
   "cell_type": "code",
   "execution_count": 33,
   "metadata": {
    "collapsed": false
   },
   "outputs": [
    {
     "name": "stdout",
     "output_type": "stream",
     "text": [
      "static: 15\n"
     ]
    }
   ],
   "source": [
    "Add.addStatic(3) #static: 15"
   ]
  },
  {
   "cell_type": "code",
   "execution_count": null,
   "metadata": {
    "collapsed": true
   },
   "outputs": [],
   "source": []
  },
  {
   "cell_type": "code",
   "execution_count": null,
   "metadata": {
    "collapsed": true
   },
   "outputs": [],
   "source": []
  }
 ],
 "metadata": {
  "kernelspec": {
   "display_name": "Python 3",
   "language": "python",
   "name": "python3"
  },
  "language_info": {
   "codemirror_mode": {
    "name": "ipython",
    "version": 3
   },
   "file_extension": ".py",
   "mimetype": "text/x-python",
   "name": "python",
   "nbconvert_exporter": "python",
   "pygments_lexer": "ipython3",
   "version": "3.6.0"
  }
 },
 "nbformat": 4,
 "nbformat_minor": 2
}
